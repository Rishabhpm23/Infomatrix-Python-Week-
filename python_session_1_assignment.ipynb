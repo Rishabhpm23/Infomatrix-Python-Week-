{
 "cells": [
  {
   "cell_type": "markdown",
   "metadata": {},
   "source": [
    "#Python Session 1 - Assignment"
   ]
  },
  {
   "cell_type": "code",
   "execution_count": 6,
   "metadata": {},
   "outputs": [
    {
     "name": "stdout",
     "output_type": "stream",
     "text": [
      "{'a': 1, 'b': 2, 'c': 3, 'd': 4}\n",
      "{'a': 5, 'b': 2, 'c': 3, 'd': 6}\n"
     ]
    }
   ],
   "source": [
    "# 1(i)-Replace the value of a key in a dictionary with a new updated value.\n",
    "\n",
    "dict1 = {'a': 1, 'b': 2, 'c': 3, 'd': 4}\n",
    "print(dict1)\n",
    "dict1.update({'a': 5, 'd': 6})\n",
    "print(dict1)"
   ]
  },
  {
   "cell_type": "code",
   "execution_count": 18,
   "metadata": {},
   "outputs": [
    {
     "name": "stdout",
     "output_type": "stream",
     "text": [
      "[-56, -434, -83] 3\n",
      "[1, 4, 23, 3, 205] 5\n",
      "[0, 0] 2\n"
     ]
    }
   ],
   "source": [
    "# (ii)\tMake a list of n integer elements -sort positive,negative,and zeros in different lists and return count and print each list.\n",
    "list1 = [1, 4, 23, -56, 3, -434, 0, -83, 205, 0]\n",
    "list2 = []\n",
    "list3 = []\n",
    "list4 = []\n",
    "pcount = 0\n",
    "ncount = 0\n",
    "zcount = 0\n",
    "for i in list1:\n",
    "    if i<0:\n",
    "        list2.append(i)\n",
    "        ncount += 1\n",
    "    elif i>0: \n",
    "        list3.append(i)\n",
    "        pcount += 1\n",
    "    else : \n",
    "        list4.append(i)\n",
    "        zcount += 1\n",
    "        \n",
    "print(list2 , ncount)\n",
    "print(list3 , pcount)\n",
    "print(list4 , zcount)\n",
    "         "
   ]
  },
  {
   "cell_type": "code",
   "execution_count": 31,
   "metadata": {},
   "outputs": [
    {
     "data": {
      "text/plain": [
       "100"
      ]
     },
     "execution_count": 31,
     "metadata": {},
     "output_type": "execute_result"
    }
   ],
   "source": [
    "#iii)\tcheck if a value is present in dict eg. sample_dict = {'a': 100, 'b': 200, 'c': 300}\n",
    "dict2 = {'a': 100, 'b': 200, 'c': 300}\n",
    "dict2.get('a')\n",
    "\n"
   ]
  },
  {
   "cell_type": "code",
   "execution_count": 40,
   "metadata": {},
   "outputs": [
    {
     "name": "stdout",
     "output_type": "stream",
     "text": [
      "[5, 7, 3, 0, -9, 1, 2]\n",
      "[5, -2, 7, 3, 0, -9, 1, 2]\n",
      "[2, 1, -9, 0, 3, 7, -2, 5]\n",
      "[2, 1, 0, 3, 7, -2, 5]\n",
      "[-2, 0, 1, 2, 3, 5, 7]\n"
     ]
    }
   ],
   "source": [
    "#  Consider list1=[5,7,3,0,-9,1], make the following changes-\n",
    "# i)\t-append 2\n",
    "# ii)\t-add -2 on the 2nd position\n",
    "# iii)\t-print the list in reverse\n",
    "# iv)\t-pop -9 \n",
    "# v)\t-sort the list \n",
    "\n",
    "list1=[5,7,3,0,-9,1]\n",
    "\n",
    "list1.append(2)\n",
    "print(list1)\n",
    "\n",
    "list1.insert(1, -2)\n",
    "print(list1)\n",
    "\n",
    "list1.reverse()\n",
    "print(list1)\n",
    "\n",
    "list1.pop(2)\n",
    "print(list1)\n",
    "\n",
    "list1.sort()\n",
    "print(list1)\n"
   ]
  },
  {
   "cell_type": "code",
   "execution_count": 52,
   "metadata": {},
   "outputs": [
    {
     "name": "stdout",
     "output_type": "stream",
     "text": [
      "*****\n",
      "\n",
      "****\n",
      "\n",
      "***\n",
      "\n",
      "**\n",
      "\n",
      "*\n",
      "\n",
      "**\n",
      "\n",
      "***\n",
      "\n",
      "****\n",
      "\n",
      "*****\n",
      "\n"
     ]
    }
   ],
   "source": [
    "# Write a Program to print the following pattern using for loop\n",
    "# * * * * *\n",
    "# * * * *\n",
    "# * * *\n",
    "# * *\n",
    "# *\n",
    "# * *\n",
    "# * * *\n",
    "# * * * *\n",
    "# * * * * * \n",
    "\n",
    "for i in range(5, 0, -1):\n",
    "    for j in range(i):\n",
    "        print('*' , end='')\n",
    "    print(\"\\n\")\n",
    "\n",
    "for i in range(2, 6):\n",
    "    for j in range(i): \n",
    "        print('*', end='')\n",
    "    print(\"\\n\")\n"
   ]
  },
  {
   "cell_type": "code",
   "execution_count": 55,
   "metadata": {},
   "outputs": [
    {
     "name": "stdout",
     "output_type": "stream",
     "text": [
      "I am 25 years and 10 months old\n",
      "[]\n"
     ]
    }
   ],
   "source": [
    "# 4. str1 = 'I am 25 years and 10 months old'\n",
    "# Remove all letters from the string and print the new string and also the list/String containing the removed letters. (Check Python doc for String functions else feel free to create user defined function) \n",
    "\n",
    "str1 = 'I am 25 years and 10 months old'\n",
    "list1 = []\n",
    "for i in str1:\n",
    "    if i == str:\n",
    "        str1.remove(i)\n",
    "        list1.append(i)\n",
    "        \n",
    "print(str1)\n",
    "print(list1)\n"
   ]
  },
  {
   "cell_type": "code",
   "execution_count": 58,
   "metadata": {},
   "outputs": [
    {
     "name": "stdout",
     "output_type": "stream",
     "text": [
      "number of words are:  4\n"
     ]
    }
   ],
   "source": [
    "# WAP to count the number of words in a string\n",
    "\n",
    "str1 = 'my name is rishabh'\n",
    "count = 0\n",
    "for i in str1: \n",
    "    if i == \" \":\n",
    "        count += 1\n",
    "print(\"number of words are: \" , count+1)\n",
    "\n"
   ]
  },
  {
   "cell_type": "code",
   "execution_count": 3,
   "metadata": {},
   "outputs": [
    {
     "name": "stdout",
     "output_type": "stream",
     "text": [
      "[2, 3, 5, 7, 11, 13, 17, 19, 23, 29]\n"
     ]
    }
   ],
   "source": [
    "# Q6. WAP to find the first 10 prime numbers using a user defined function\n",
    "\n",
    "def isprime(n): \n",
    "    for i in range(2, n-1):\n",
    "        if n % i == 0:\n",
    "            return False\n",
    "    return True\n",
    "\n",
    "def first_n_prime(n):\n",
    "    prime = []\n",
    "    num = 2\n",
    "    while len(prime) < n:\n",
    "        if isprime(num):\n",
    "            prime.append(num)\n",
    "        num += 1\n",
    "    return prime\n",
    "\n",
    "first_10_prime = first_n_prime(10)\n",
    "print(first_10_prime)\n",
    "    \n",
    "    \n",
    "            \n",
    "\n",
    "\n",
    "        \n"
   ]
  },
  {
   "cell_type": "code",
   "execution_count": 11,
   "metadata": {},
   "outputs": [
    {
     "name": "stdout",
     "output_type": "stream",
     "text": [
      "Pho\n"
     ]
    }
   ],
   "source": [
    "# Q7. WAP to extract 5th, 7th,9th character from a string and merge it to form a new string/list.\n",
    "\n",
    "str1  = \"ilovePyhton\"\n",
    "        \n",
    "print(str1[5: 10: 2])"
   ]
  },
  {
   "cell_type": "code",
   "execution_count": null,
   "metadata": {},
   "outputs": [],
   "source": [
    "# Q8. Write a program to merge two lists having common element and remove the common element from the list.\n",
    "\n",
    "list1 = [1, 2 ,3 ,4 ,5 ]\n",
    "list2 = [4, 5, 6 ,7, 8 ]\n",
    "\n",
    "# ?????????????????"
   ]
  }
 ],
 "metadata": {
  "kernelspec": {
   "display_name": "base",
   "language": "python",
   "name": "python3"
  },
  "language_info": {
   "codemirror_mode": {
    "name": "ipython",
    "version": 3
   },
   "file_extension": ".py",
   "mimetype": "text/x-python",
   "name": "python",
   "nbconvert_exporter": "python",
   "pygments_lexer": "ipython3",
   "version": "3.11.7"
  }
 },
 "nbformat": 4,
 "nbformat_minor": 2
}
